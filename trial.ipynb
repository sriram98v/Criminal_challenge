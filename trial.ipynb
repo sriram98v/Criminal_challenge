{
 "cells": [
  {
   "cell_type": "code",
   "execution_count": 1,
   "metadata": {},
   "outputs": [],
   "source": [
    "import pandas as pd\n",
    "import matplotlib.pyplot as plt\n",
    "import numpy as np\n",
    "import os\n",
    "import pprint\n",
    "from sklearn.model_selection import train_test_split\n",
    "from sklearn.utils import shuffle\n",
    "from sklearn.ensemble import AdaBoostClassifier\n",
    "from sklearn.tree import DecisionTreeClassifier\n",
    "from sklearn.metrics import precision_score\n",
    "from sklearn.ensemble import RandomForestClassifier\n",
    "from sklearn.feature_selection import SelectFromModel\n",
    "from sklearn.feature_selection import RFE\n",
    "from xgboost import XGBClassifier\n",
    "from matplotlib import pyplot\n",
    "from sklearn.model_selection import GridSearchCV\n",
    "from sklearn.model_selection import StratifiedKFold\n",
    "from xgboost import plot_importance\n",
    "%matplotlib inline\n"
   ]
  },
  {
   "cell_type": "code",
   "execution_count": 2,
   "metadata": {},
   "outputs": [
    {
     "name": "stdout",
     "output_type": "stream",
     "text": [
      "       IFATHER  NRCH17_2  IRHHSIZ2  IIHHSIZ2  IRKI17_2  IIKI17_2  IRHH65_2  \\\n",
      "45460        4         2         6         1         3         1         2   \n",
      "38218        4         0         2         1         1         1         1   \n",
      "15625        4         1         3         1         2         1         1   \n",
      "40695        4         0         3         1         1         1         1   \n",
      "31052        4         0         2         1         1         1         1   \n",
      "\n",
      "       IIHH65_2  PRXRETRY  PRXYDATA    ...     TOOLONG  TROUBUND  PDEN10  \\\n",
      "45460         1        99        99    ...           2         2       2   \n",
      "38218         1        99        99    ...           2         2       1   \n",
      "15625         1        99        99    ...           2         2       3   \n",
      "40695         1        99        99    ...           2         2       2   \n",
      "31052         1        99        99    ...           2         2       1   \n",
      "\n",
      "       COUTYP2  MAIIN102  AIIND102      ANALWT_C  VESTR  VEREP  Criminal  \n",
      "45460        2         2         2  16593.483900  40023      2         0  \n",
      "38218        1         2         2   4406.309857  40004      2         0  \n",
      "15625        3         2         2   2830.049616  40041      2         0  \n",
      "40695        2         2         2   5612.594893  40019      2         0  \n",
      "31052        1         2         2   4288.511774  40018      1         0  \n",
      "\n",
      "[5 rows x 71 columns]\n"
     ]
    }
   ],
   "source": [
    "df = pd.read_csv('./criminal_train.csv')\n",
    "df = df.drop(columns=['PERID'])\n",
    "df = shuffle(df, random_state=101)\n",
    "print(df.head())\n",
    "\n"
   ]
  },
  {
   "cell_type": "code",
   "execution_count": 3,
   "metadata": {},
   "outputs": [],
   "source": [
    "X = df.drop(columns=['Criminal'])\n",
    "y = df['Criminal']\n",
    "\n",
    "X_train, X_test, y_train, y_test = train_test_split(X, y, test_size=0.4, random_state=101)\n",
    "eval_set = [(X_test, y_test)]\n",
    "\n",
    "\n"
   ]
  },
  {
   "cell_type": "code",
   "execution_count": 4,
   "metadata": {},
   "outputs": [
    {
     "name": "stdout",
     "output_type": "stream",
     "text": [
      "Accuracy: 71.05%\n"
     ]
    },
    {
     "name": "stderr",
     "output_type": "stream",
     "text": [
      "/home/kuuhaku/anaconda3/envs/tfkeras/lib/python3.5/site-packages/sklearn/preprocessing/label.py:151: DeprecationWarning: The truth value of an empty array is ambiguous. Returning False, but in future this will result in an error. Use `array.size > 0` to check that an array is not empty.\n",
      "  if diff:\n"
     ]
    }
   ],
   "source": [
    "model = XGBClassifier()\n",
    "model.fit(X_train, y_train)\n",
    "y_pred = model.predict(X_test)\n",
    "predictions = [round(value) for value in y_pred]\n",
    "accuracy = precision_score(y_test, predictions)\n",
    "print(\"Accuracy: %.2f%%\" % (accuracy * 100.0))"
   ]
  },
  {
   "cell_type": "code",
   "execution_count": 5,
   "metadata": {},
   "outputs": [
    {
     "name": "stdout",
     "output_type": "stream",
     "text": [
      "[0]\tvalidation_0-error:0.053478\n",
      "Will train until validation_0-error hasn't improved in 30 rounds.\n",
      "[1]\tvalidation_0-error:0.053696\n",
      "[2]\tvalidation_0-error:0.053478\n",
      "[3]\tvalidation_0-error:0.053696\n",
      "[4]\tvalidation_0-error:0.053642\n",
      "[5]\tvalidation_0-error:0.053642\n",
      "[6]\tvalidation_0-error:0.053642\n",
      "[7]\tvalidation_0-error:0.053642\n",
      "[8]\tvalidation_0-error:0.053368\n",
      "[9]\tvalidation_0-error:0.053368\n",
      "[10]\tvalidation_0-error:0.053368\n",
      "[11]\tvalidation_0-error:0.053368\n",
      "[12]\tvalidation_0-error:0.053368\n",
      "[13]\tvalidation_0-error:0.053368\n",
      "[14]\tvalidation_0-error:0.053368\n",
      "[15]\tvalidation_0-error:0.053368\n",
      "[16]\tvalidation_0-error:0.053368\n",
      "[17]\tvalidation_0-error:0.053368\n",
      "[18]\tvalidation_0-error:0.053368\n",
      "[19]\tvalidation_0-error:0.053368\n",
      "[20]\tvalidation_0-error:0.053368\n",
      "[21]\tvalidation_0-error:0.053368\n",
      "[22]\tvalidation_0-error:0.053368\n",
      "[23]\tvalidation_0-error:0.053368\n",
      "[24]\tvalidation_0-error:0.053368\n",
      "[25]\tvalidation_0-error:0.053368\n",
      "[26]\tvalidation_0-error:0.053368\n",
      "[27]\tvalidation_0-error:0.053368\n",
      "[28]\tvalidation_0-error:0.053368\n",
      "[29]\tvalidation_0-error:0.048556\n",
      "[30]\tvalidation_0-error:0.048556\n",
      "[31]\tvalidation_0-error:0.048556\n",
      "[32]\tvalidation_0-error:0.048556\n",
      "[33]\tvalidation_0-error:0.048556\n",
      "[34]\tvalidation_0-error:0.048447\n",
      "[35]\tvalidation_0-error:0.048556\n",
      "[36]\tvalidation_0-error:0.048447\n",
      "[37]\tvalidation_0-error:0.048447\n",
      "[38]\tvalidation_0-error:0.048447\n",
      "[39]\tvalidation_0-error:0.048447\n",
      "[40]\tvalidation_0-error:0.048447\n",
      "[41]\tvalidation_0-error:0.048447\n",
      "[42]\tvalidation_0-error:0.048447\n",
      "[43]\tvalidation_0-error:0.045494\n",
      "[44]\tvalidation_0-error:0.048447\n",
      "[45]\tvalidation_0-error:0.045494\n",
      "[46]\tvalidation_0-error:0.045494\n",
      "[47]\tvalidation_0-error:0.045549\n",
      "[48]\tvalidation_0-error:0.045549\n",
      "[49]\tvalidation_0-error:0.045549\n",
      "[50]\tvalidation_0-error:0.045549\n",
      "[51]\tvalidation_0-error:0.045385\n",
      "[52]\tvalidation_0-error:0.045385\n",
      "[53]\tvalidation_0-error:0.04544\n",
      "[54]\tvalidation_0-error:0.045768\n",
      "[55]\tvalidation_0-error:0.04533\n",
      "[56]\tvalidation_0-error:0.04533\n",
      "[57]\tvalidation_0-error:0.045549\n",
      "[58]\tvalidation_0-error:0.045385\n",
      "[59]\tvalidation_0-error:0.045494\n",
      "[60]\tvalidation_0-error:0.045494\n",
      "[61]\tvalidation_0-error:0.04544\n",
      "[62]\tvalidation_0-error:0.045276\n",
      "[63]\tvalidation_0-error:0.045276\n",
      "[64]\tvalidation_0-error:0.045276\n",
      "[65]\tvalidation_0-error:0.045221\n",
      "[66]\tvalidation_0-error:0.045221\n",
      "[67]\tvalidation_0-error:0.045166\n",
      "[68]\tvalidation_0-error:0.045276\n",
      "[69]\tvalidation_0-error:0.045221\n",
      "[70]\tvalidation_0-error:0.045604\n",
      "[71]\tvalidation_0-error:0.045658\n",
      "[72]\tvalidation_0-error:0.045604\n",
      "[73]\tvalidation_0-error:0.045713\n",
      "[74]\tvalidation_0-error:0.045768\n",
      "[75]\tvalidation_0-error:0.045549\n",
      "[76]\tvalidation_0-error:0.045549\n",
      "[77]\tvalidation_0-error:0.045494\n",
      "[78]\tvalidation_0-error:0.045494\n",
      "[79]\tvalidation_0-error:0.045494\n",
      "[80]\tvalidation_0-error:0.045604\n",
      "[81]\tvalidation_0-error:0.045713\n",
      "[82]\tvalidation_0-error:0.045549\n",
      "[83]\tvalidation_0-error:0.045713\n",
      "[84]\tvalidation_0-error:0.045768\n",
      "[85]\tvalidation_0-error:0.045768\n",
      "[86]\tvalidation_0-error:0.045713\n",
      "[87]\tvalidation_0-error:0.045713\n",
      "[88]\tvalidation_0-error:0.045713\n",
      "[89]\tvalidation_0-error:0.045768\n",
      "[90]\tvalidation_0-error:0.045768\n",
      "[91]\tvalidation_0-error:0.045768\n",
      "[92]\tvalidation_0-error:0.045768\n",
      "[93]\tvalidation_0-error:0.045768\n",
      "[94]\tvalidation_0-error:0.045822\n",
      "[95]\tvalidation_0-error:0.045768\n",
      "[96]\tvalidation_0-error:0.045877\n",
      "[97]\tvalidation_0-error:0.045877\n",
      "Stopping. Best iteration:\n",
      "[67]\tvalidation_0-error:0.045166\n",
      "\n",
      "Accuracy: 70.85%\n"
     ]
    },
    {
     "name": "stderr",
     "output_type": "stream",
     "text": [
      "/home/kuuhaku/anaconda3/envs/tfkeras/lib/python3.5/site-packages/sklearn/preprocessing/label.py:151: DeprecationWarning: The truth value of an empty array is ambiguous. Returning False, but in future this will result in an error. Use `array.size > 0` to check that an array is not empty.\n",
      "  if diff:\n"
     ]
    }
   ],
   "source": [
    "model.fit(X_train, y_train, eval_metric=\"error\",early_stopping_rounds=30, eval_set=eval_set, verbose=True)\n",
    "y_pred = model.predict(X_test)\n",
    "predictions = [round(value) for value in y_pred]\n",
    "accuracy = precision_score(y_test, predictions)\n",
    "print(\"Accuracy: %.2f%%\" % (accuracy * 100.0))"
   ]
  },
  {
   "cell_type": "code",
   "execution_count": 6,
   "metadata": {},
   "outputs": [
    {
     "name": "stdout",
     "output_type": "stream",
     "text": [
      "[0.04775281 0.01123596 0.01123596 0.         0.0252809  0.\n",
      " 0.01404494 0.         0.02247191 0.00280899 0.01123596 0.01123596\n",
      " 0.         0.00280899 0.21910113 0.         0.00842697 0.0252809\n",
      " 0.         0.         0.         0.         0.         0.\n",
      " 0.         0.         0.         0.0252809  0.         0.\n",
      " 0.         0.00280899 0.         0.         0.         0.\n",
      " 0.         0.         0.         0.         0.01404494 0.01404494\n",
      " 0.         0.03651685 0.         0.         0.01123596 0.\n",
      " 0.         0.         0.00280899 0.         0.         0.\n",
      " 0.01123596 0.10955057 0.21348314 0.         0.01404494 0.00280899\n",
      " 0.0252809  0.00280899 0.00280899 0.         0.00561798 0.\n",
      " 0.         0.06460674 0.0252809  0.00280899]\n"
     ]
    },
    {
     "data": {
      "image/png": "[encoded data removed]",
      "text/plain": [
       "<matplotlib.figure.Figure at 0x7f22660e7ac8>"
      ]
     },
     "metadata": {},
     "output_type": "display_data"
    },
    {
     "name": "stdout",
     "output_type": "stream",
     "text": [
      "['IFATHER', 'NRCH17_2', 'IRHHSIZ2', 'IRKI17_2', 'IRHH65_2', 'PRXRETRY', 'PRXYDATA', 'MEDICARE', 'CAIDCHIP', 'PRVHLTIN', 'GRPHLTIN', 'HLCNOTYR', 'HLCNOTMO', 'IRMEDICR', 'IRPRVHLT', 'OTHINS', 'CELLNOTCL', 'IRFAMSOC', 'IIFAMSSI', 'IIFAMPMT', 'IIWELMOS', 'IRPINC3', 'IRFAMIN3', 'IIFAMIN3', 'GOVTPROG', 'POVERTY3', 'TOOLONG', 'TROUBUND', 'COUTYP2', 'ANALWT_C', 'VESTR', 'VEREP']\n"
     ]
    }
   ],
   "source": [
    "print(model.feature_importances_)\n",
    "plot_importance(model)\n",
    "pyplot.show()\n",
    "imp_features = []\n",
    "[imp_features.append(i) for i,j in zip(X_train.columns, model.feature_importances_) if j != 0]\n",
    "print(imp_features)"
   ]
  },
  {
   "cell_type": "code",
   "execution_count": 7,
   "metadata": {},
   "outputs": [
    {
     "name": "stdout",
     "output_type": "stream",
     "text": [
      "Accuracy: 71.05%\n"
     ]
    },
    {
     "name": "stderr",
     "output_type": "stream",
     "text": [
      "/home/kuuhaku/anaconda3/envs/tfkeras/lib/python3.5/site-packages/sklearn/preprocessing/label.py:151: DeprecationWarning: The truth value of an empty array is ambiguous. Returning False, but in future this will result in an error. Use `array.size > 0` to check that an array is not empty.\n",
      "  if diff:\n"
     ]
    }
   ],
   "source": [
    "model2 = XGBClassifier()\n",
    "model2.fit(X_train[imp_features], y_train)\n",
    "y_pred = model2.predict(X_test[imp_features])\n",
    "predictions = [round(value) for value in y_pred]\n",
    "accuracy = precision_score(y_test, predictions)\n",
    "print(\"Accuracy: %.2f%%\" % (accuracy * 100.0))"
   ]
  },
  {
   "cell_type": "code",
   "execution_count": 8,
   "metadata": {},
   "outputs": [],
   "source": [
    "param_test1 = {\n",
    " 'max_depth':range(3,10,2),\n",
    " 'min_child_weight':range(1,6,2)\n",
    "}\n",
    "kfold = StratifiedKFold(n_splits=10, shuffle=True, random_state=7)\n",
    "grid_search1 = GridSearchCV(model, param_test1, scoring=\"neg_log_loss\", n_jobs=-1, cv=kfold)\n",
    "grid_result1 = grid_search1.fit(X_train[imp_features], y_train)"
   ]
  },
  {
   "cell_type": "code",
   "execution_count": 9,
   "metadata": {},
   "outputs": [
    {
     "name": "stdout",
     "output_type": "stream",
     "text": [
      "Best: -0.103012 using {'min_child_weight': 1, 'max_depth': 5}\n"
     ]
    }
   ],
   "source": [
    "print(\"Best: %f using %s\" % (grid_result1.best_score_, grid_result1.best_params_))"
   ]
  },
  {
   "cell_type": "code",
   "execution_count": 10,
   "metadata": {},
   "outputs": [
    {
     "name": "stdout",
     "output_type": "stream",
     "text": [
      "Best: -0.102943 using {'min_child_weight': 2, 'max_depth': 5}\n"
     ]
    }
   ],
   "source": [
    "param_test2 = {\n",
    " 'max_depth':[4,5,6],\n",
    " 'min_child_weight':[1,2,3]\n",
    "}\n",
    "kfold = StratifiedKFold(n_splits=10, shuffle=True, random_state=7)\n",
    "grid_search2 = GridSearchCV(model, param_test2, scoring=\"neg_log_loss\", n_jobs=-1, cv=kfold)\n",
    "grid_result2 = grid_search2.fit(X_train[imp_features], y_train)\n",
    "print(\"Best: %f using %s\" % (grid_result2.best_score_, grid_result2.best_params_))"
   ]
  },
  {
   "cell_type": "code",
   "execution_count": 11,
   "metadata": {},
   "outputs": [
    {
     "name": "stdout",
     "output_type": "stream",
     "text": [
      "Best: -0.104086 using {'gamma': 0.0}\n"
     ]
    }
   ],
   "source": [
    "param_test3 = {\n",
    " 'gamma':[i/10.0 for i in range(0,5)]\n",
    "}\n",
    "kfold = StratifiedKFold(n_splits=10, shuffle=True, random_state=7)\n",
    "grid_search3 = GridSearchCV(model, param_test3, scoring=\"neg_log_loss\", n_jobs=-1, cv=kfold)\n",
    "grid_result3 = grid_search3.fit(X_train[imp_features], y_train)\n",
    "print(\"Best: %f using %s\" % (grid_result3.best_score_, grid_result3.best_params_))"
   ]
  },
  {
   "cell_type": "code",
   "execution_count": null,
   "metadata": {},
   "outputs": [
    {
     "name": "stdout",
     "output_type": "stream",
     "text": [
      "[0]\tvalidation_0-error:0.059602\n",
      "Will train until validation_0-error hasn't improved in 50 rounds.\n",
      "[1]\tvalidation_0-error:0.047846\n",
      "[2]\tvalidation_0-error:0.046752\n",
      "[3]\tvalidation_0-error:0.045276\n",
      "[4]\tvalidation_0-error:0.04544\n",
      "[5]\tvalidation_0-error:0.045494\n",
      "[6]\tvalidation_0-error:0.045822\n",
      "[7]\tvalidation_0-error:0.045822\n",
      "[8]\tvalidation_0-error:0.045658\n",
      "[9]\tvalidation_0-error:0.045494\n",
      "[10]\tvalidation_0-error:0.04533\n",
      "[11]\tvalidation_0-error:0.045494\n",
      "[12]\tvalidation_0-error:0.045549\n",
      "[13]\tvalidation_0-error:0.04533\n",
      "[14]\tvalidation_0-error:0.045385\n",
      "[15]\tvalidation_0-error:0.045385\n",
      "[16]\tvalidation_0-error:0.045276\n",
      "[17]\tvalidation_0-error:0.045276\n",
      "[18]\tvalidation_0-error:0.04533\n",
      "[19]\tvalidation_0-error:0.045494\n",
      "[20]\tvalidation_0-error:0.045604\n",
      "[21]\tvalidation_0-error:0.04544\n",
      "[22]\tvalidation_0-error:0.045494\n",
      "[23]\tvalidation_0-error:0.045549\n",
      "[24]\tvalidation_0-error:0.045385\n",
      "[25]\tvalidation_0-error:0.045494\n",
      "[26]\tvalidation_0-error:0.045549\n",
      "[27]\tvalidation_0-error:0.04544\n",
      "[28]\tvalidation_0-error:0.045549\n",
      "[29]\tvalidation_0-error:0.045604\n",
      "[30]\tvalidation_0-error:0.045658\n",
      "[31]\tvalidation_0-error:0.045877\n",
      "[32]\tvalidation_0-error:0.045877\n",
      "[33]\tvalidation_0-error:0.045932\n",
      "[34]\tvalidation_0-error:0.045986\n",
      "[35]\tvalidation_0-error:0.045932\n",
      "[36]\tvalidation_0-error:0.045986\n",
      "[37]\tvalidation_0-error:0.046041\n",
      "[38]\tvalidation_0-error:0.045713\n",
      "[39]\tvalidation_0-error:0.045768\n",
      "[40]\tvalidation_0-error:0.045932\n",
      "[41]\tvalidation_0-error:0.045932\n",
      "[42]\tvalidation_0-error:0.045822\n",
      "[43]\tvalidation_0-error:0.04544\n",
      "[44]\tvalidation_0-error:0.045658\n",
      "[45]\tvalidation_0-error:0.045658\n",
      "[46]\tvalidation_0-error:0.045658\n",
      "[47]\tvalidation_0-error:0.045494\n",
      "[48]\tvalidation_0-error:0.04544\n",
      "[49]\tvalidation_0-error:0.045385\n",
      "[50]\tvalidation_0-error:0.04544\n",
      "[51]\tvalidation_0-error:0.04544\n",
      "[52]\tvalidation_0-error:0.045494\n",
      "[53]\tvalidation_0-error:0.045494\n",
      "Stopping. Best iteration:\n",
      "[3]\tvalidation_0-error:0.045276\n",
      "\n",
      "Accuracy: 71.17%\n"
     ]
    },
    {
     "name": "stderr",
     "output_type": "stream",
     "text": [
      "/home/kuuhaku/anaconda3/envs/tfkeras/lib/python3.5/site-packages/sklearn/preprocessing/label.py:151: DeprecationWarning: The truth value of an empty array is ambiguous. Returning False, but in future this will result in an error. Use `array.size > 0` to check that an array is not empty.\n",
      "  if diff:\n"
     ]
    }
   ],
   "source": [
    "eval_set = [(X_test[imp_features], y_test)]\n",
    "model3 = XGBClassifier(\n",
    " learning_rate =0.1,\n",
    " n_estimators=1000,\n",
    " max_depth=5,\n",
    " min_child_weight=2,\n",
    " gamma=0,\n",
    " subsample=0.8,\n",
    " colsample_bytree=0.8,\n",
    " nthread=4,\n",
    " scale_pos_weight=1,\n",
    " seed=27)\n",
    "model3.fit(X_train[imp_features], y_train, eval_metric=\"error\",early_stopping_rounds=50, eval_set=eval_set, verbose=True)\n",
    "y_pred = model3.predict(X_test[imp_features])\n",
    "predictions = [round(value) for value in y_pred]\n",
    "accuracy = precision_score(y_test, predictions)\n",
    "print(\"Accuracy: %.2f%%\" % (accuracy * 100.0))"
   ]
  },
  {
   "cell_type": "code",
   "execution_count": null,
   "metadata": {},
   "outputs": [],
   "source": [
    "param_test4 = {\n",
    " 'subsample':[i/10.0 for i in range(6,10)],\n",
    " 'colsample_bytree':[i/10.0 for i in range(6,10)]\n",
    "}\n",
    "kfold = StratifiedKFold(n_splits=10, shuffle=True, random_state=7)\n",
    "grid_search4 = GridSearchCV(model3, param_test4, scoring=\"neg_log_loss\", n_jobs=-1, cv=kfold)\n",
    "grid_result4 = grid_search4.fit(X_train[imp_features], y_train)\n",
    "print(\"Best: %f using %s\" % (grid_result4.best_score_, grid_result4.best_params_))"
   ]
  },
  {
   "cell_type": "code",
   "execution_count": null,
   "metadata": {},
   "outputs": [],
   "source": []
  },
  {
   "cell_type": "code",
   "execution_count": null,
   "metadata": {},
   "outputs": [],
   "source": []
  },
  {
   "cell_type": "code",
   "execution_count": null,
   "metadata": {},
   "outputs": [],
   "source": []
  },
  {
   "cell_type": "code",
   "execution_count": null,
   "metadata": {},
   "outputs": [],
   "source": []
  },
  {
   "cell_type": "code",
   "execution_count": null,
   "metadata": {},
   "outputs": [],
   "source": []
  }
 ],
 "metadata": {
  "kernelspec": {
   "display_name": "Python 2",
   "language": "python",
   "name": "python2"
  },
  "language_info": {
   "codemirror_mode": {
    "name": "ipython",
    "version": 3
   },
   "file_extension": ".py",
   "mimetype": "text/x-python",
   "name": "python",
   "nbconvert_exporter": "python",
   "pygments_lexer": "ipython3",
   "version": "3.5.4"
  }
 },
 "nbformat": 4,
 "nbformat_minor": 2
}
